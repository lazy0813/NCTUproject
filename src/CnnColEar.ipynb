{
 "cells": [
  {
   "cell_type": "code",
   "execution_count": 43,
   "metadata": {},
   "outputs": [],
   "source": [
    "import time\n",
    "import math\n",
    "import random\n",
    "\n",
    "import pandas as pd\n",
    "import numpy as np\n",
    "import matplotlib.pyplot as plt\n",
    "import tensorflow.compat.v1 as tf\n",
    "import dataset\n",
    "import cv2\n",
    "import os\n",
    "import glob\n",
    "\n",
    "from sklearn.metrics import confusion_matrix\n",
    "from datetime import timedelta\n",
    "tf.disable_v2_behavior()\n",
    "%matplotlib inline"
   ]
  },
  {
   "cell_type": "code",
   "execution_count": 44,
   "metadata": {},
   "outputs": [],
   "source": [
    "# Convolutional Layer 1.\n",
    "filter_size1 = 3 \n",
    "num_filters1 = 32\n",
    "\n",
    "# Convolutional Layer 2.\n",
    "filter_size2 = 3\n",
    "num_filters2 = 32\n",
    "\n",
    "# Convolutional Layer 3.\n",
    "filter_size3 = 3\n",
    "num_filters3 = 64\n",
    "\n",
    "# Fully-connected layer.\n",
    "fc_size = 200             # Number of neurons in fully-connected layer.\n",
    "\n",
    "# Number of color channels for the images: 1 channel for gray-scale.\n",
    "num_channels = 3\n",
    "\n",
    "# image dimensions (only squares for now)\n",
    "img_size = 200\n",
    "\n",
    "# Size of image when flattened to a single dimension\n",
    "img_size_flat = img_size * img_size * num_channels\n",
    "\n",
    "# Tuple with height and width of images used to reshape arrays.\n",
    "img_shape = (img_size, img_size)\n",
    "\n",
    "# class info\n",
    "classes = ['Scol', 'Lcol', 'eq']\n",
    "num_classes = len(classes)\n",
    "\n",
    "# batch size \n",
    "batch_size = 30\n",
    "\n",
    "# validation split\n",
    "validation_size = .10\n",
    "\n",
    "# how long to wait after validation loss stops improving before terminating training\n",
    "early_stopping = None  # use None if you don't want to implement early stoping\n",
    "\n",
    "train_path = '../database/pic/data_df3/train/'\n",
    "test_path = '../database/pic/data_df3/test/'\n",
    "checkpoint_dir = \"models/\""
   ]
  },
  {
   "cell_type": "code",
   "execution_count": 45,
   "metadata": {},
   "outputs": [
    {
     "name": "stdout",
     "output_type": "stream",
     "text": [
      "Reading training images\n",
      "Loading Scol files (Index: 0)\n",
      "Loading Lcol files (Index: 1)\n",
      "Loading eq files (Index: 2)\n",
      "Reading test images\n"
     ]
    }
   ],
   "source": [
    "data = dataset.read_train_sets(train_path, img_size, classes, validation_size=validation_size)\n",
    "test_images, test_ids = dataset.read_test_set(test_path, img_size)"
   ]
  },
  {
   "cell_type": "code",
   "execution_count": 46,
   "metadata": {},
   "outputs": [
    {
     "name": "stdout",
     "output_type": "stream",
     "text": [
      "Size of:\n",
      "- Training-set:\t\t270\n",
      "- Test-set:\t\t0\n",
      "- Validation-set:\t30\n"
     ]
    }
   ],
   "source": [
    "print(\"Size of:\")\n",
    "print(\"- Training-set:\\t\\t{}\".format(len(data.train.labels)))\n",
    "print(\"- Test-set:\\t\\t{}\".format(len(test_images)))\n",
    "print(\"- Validation-set:\\t{}\".format(len(data.valid.labels)))"
   ]
  },
  {
   "cell_type": "code",
   "execution_count": 47,
   "metadata": {},
   "outputs": [],
   "source": [
    "def plot_images(images, cls_true, cls_pred=None):\n",
    "    \n",
    "    if len(images) == 0:\n",
    "        print(\"no images to show\")\n",
    "        return \n",
    "    else:\n",
    "        random_indices = random.sample(range(len(images)), min(len(images), 9))\n",
    "        \n",
    "    if cls_pred is not None:\n",
    "        images, cls_true, cls_pred  = zip(*[(images[i], cls_true[i], cls_pred[i]) for i in random_indices])\n",
    "    else:\n",
    "        images, cls_true  = zip(*[(images[i], cls_true[i]) for i in random_indices])\n",
    "    \n",
    "    # Create figure with 3x3 sub-plots.\n",
    "    plt.figure(dpi=500)\n",
    "    fig, axes = plt.subplots(3, 3)\n",
    "    fig.subplots_adjust(hspace=0.3, wspace=0.3)\n",
    "\n",
    "    for i, ax in enumerate(axes.flat):\n",
    "        # Plot image.\n",
    "        ax.imshow(images[i].reshape(img_size, img_size, num_channels))\n",
    "\n",
    "        # Show true and predicted classes.\n",
    "        if cls_pred is None:\n",
    "            xlabel = \"True: {0}\".format(cls_true[i])\n",
    "        else:\n",
    "            xlabel = \"True: {0}, Pred: {1}\".format(cls_true[i], cls_pred[i])\n",
    "\n",
    "        # Show the classes as the label on the x-axis.\n",
    "        ax.set_xlabel(xlabel)\n",
    "        \n",
    "        # Remove ticks from the plot.\n",
    "        ax.set_xticks([])\n",
    "        ax.set_yticks([])\n",
    "    \n",
    "    # Ensure the plot is shown correctly with multiple plots\n",
    "    # in a single Notebook cell.\n",
    "    plt.show()"
   ]
  },
  {
   "cell_type": "code",
   "execution_count": 48,
   "metadata": {},
   "outputs": [
    {
     "data": {
      "text/plain": [
       "<Figure size 3000x2000 with 0 Axes>"
      ]
     },
     "metadata": {},
     "output_type": "display_data"
    },
    {
     "data": {
      "image/png": "[encoded data removed]",
      "text/plain": [
       "<Figure size 432x288 with 9 Axes>"
      ]
     },
     "metadata": {},
     "output_type": "display_data"
    }
   ],
   "source": [
    "# Get some random images and their labels from the train set.\n",
    "\n",
    "images, cls_true  = data.train.images, data.train.cls\n",
    "\n",
    "# Plot the images and labels using our helper-function above.\n",
    "plot_images(images=images, cls_true=cls_true)"
   ]
  },
  {
   "cell_type": "code",
   "execution_count": 49,
   "metadata": {},
   "outputs": [],
   "source": [
    "def new_weights(shape):\n",
    "    return tf.Variable(tf.truncated_normal(shape, stddev=0.05))"
   ]
  },
  {
   "cell_type": "code",
   "execution_count": 50,
   "metadata": {},
   "outputs": [],
   "source": [
    "def new_biases(length):\n",
    "    return tf.Variable(tf.constant(0.05, shape=[length]))"
   ]
  },
  {
   "cell_type": "code",
   "execution_count": 51,
   "metadata": {},
   "outputs": [],
   "source": [
    "def new_conv_layer(input,              # The previous layer.\n",
    "                   num_input_channels, # Num. channels in prev. layer.\n",
    "                   filter_size,        # Width and height of each filter.\n",
    "                   num_filters,        # Number of filters.\n",
    "                   use_pooling=True):  # Use 2x2 max-pooling.\n",
    "\n",
    "    # Shape of the filter-weights for the convolution.\n",
    "    # This format is determined by the TensorFlow API.\n",
    "    shape = [filter_size, filter_size, num_input_channels, num_filters]\n",
    "\n",
    "    # Create new weights aka. filters with the given shape.\n",
    "    weights = new_weights(shape=shape)\n",
    "\n",
    "    # Create new biases, one for each filter.\n",
    "    biases = new_biases(length=num_filters)\n",
    "\n",
    "    # Create the TensorFlow operation for convolution.\n",
    "    # Note the strides are set to 1 in all dimensions.\n",
    "    # The first and last stride must always be 1,\n",
    "    # because the first is for the image-number and\n",
    "    # the last is for the input-channel.\n",
    "    # But e.g. strides=[1, 2, 2, 1] would mean that the filter\n",
    "    # is moved 2 pixels across the x- and y-axis of the image.\n",
    "    # The padding is set to 'SAME' which means the input image\n",
    "    # is padded with zeroes so the size of the output is the same.\n",
    "    layer = tf.nn.conv2d(input=input,\n",
    "                         filter=weights,\n",
    "                         strides=[1, 1, 1, 1],\n",
    "                         padding='SAME')\n",
    "\n",
    "    # Add the biases to the results of the convolution.\n",
    "    # A bias-value is added to each filter-channel.\n",
    "    layer += biases\n",
    "\n",
    "    # Use pooling to down-sample the image resolution?\n",
    "    if use_pooling:\n",
    "        # This is 2x2 max-pooling, which means that we\n",
    "        # consider 2x2 windows and select the largest value\n",
    "        # in each window. Then we move 2 pixels to the next window.\n",
    "        layer = tf.nn.max_pool(value=layer,\n",
    "                               ksize=[1, 2, 2, 1],\n",
    "                               strides=[1, 2, 2, 1],\n",
    "                               padding='SAME')\n",
    "\n",
    "    # Rectified Linear Unit (ReLU).\n",
    "    # It calculates max(x, 0) for each input pixel x.\n",
    "    # This adds some non-linearity to the formula and allows us\n",
    "    # to learn more complicated functions.\n",
    "    layer = tf.nn.relu(layer)\n",
    "\n",
    "    # Note that ReLU is normally executed before the pooling,\n",
    "    # but since relu(max_pool(x)) == max_pool(relu(x)) we can\n",
    "    # save 75% of the relu-operations by max-pooling first.\n",
    "\n",
    "    # We return both the resulting layer and the filter-weights\n",
    "    # because we will plot the weights later.\n",
    "    return layer, weights"
   ]
  },
  {
   "cell_type": "code",
   "execution_count": 52,
   "metadata": {},
   "outputs": [],
   "source": [
    "def flatten_layer(layer):\n",
    "    # Get the shape of the input layer.\n",
    "    layer_shape = layer.get_shape()\n",
    "\n",
    "    # The shape of the input layer is assumed to be:\n",
    "    # layer_shape == [num_images, img_height, img_width, num_channels]\n",
    "\n",
    "    # The number of features is: img_height * img_width * num_channels\n",
    "    # We can use a function from TensorFlow to calculate this.\n",
    "    num_features = layer_shape[1:4].num_elements()\n",
    "    \n",
    "    # Reshape the layer to [num_images, num_features].\n",
    "    # Note that we just set the size of the second dimension\n",
    "    # to num_features and the size of the first dimension to -1\n",
    "    # which means the size in that dimension is calculated\n",
    "    # so the total size of the tensor is unchanged from the reshaping.\n",
    "    layer_flat = tf.reshape(layer, [-1, num_features])\n",
    "\n",
    "    # The shape of the flattened layer is now:\n",
    "    # [num_images, img_height * img_width * num_channels]\n",
    "\n",
    "    # Return both the flattened layer and the number of features.\n",
    "    return layer_flat, num_features"
   ]
  },
  {
   "cell_type": "code",
   "execution_count": 53,
   "metadata": {},
   "outputs": [],
   "source": [
    "def new_fc_layer(input,          # The previous layer.\n",
    "                 num_inputs,     # Num. inputs from prev. layer.\n",
    "                 num_outputs,    # Num. outputs.\n",
    "                 use_relu=True): # Use Rectified Linear Unit (ReLU)?\n",
    "\n",
    "    # Create new weights and biases.\n",
    "    weights = new_weights(shape=[num_inputs, num_outputs])\n",
    "    biases = new_biases(length=num_outputs)\n",
    "\n",
    "    # Calculate the layer as the matrix multiplication of\n",
    "    # the input and weights, and then add the bias-values.\n",
    "    layer = tf.matmul(input, weights) + biases\n",
    "\n",
    "    # Use ReLU?\n",
    "    if use_relu:\n",
    "        layer = tf.nn.relu(layer)\n",
    "\n",
    "    return layer"
   ]
  },
  {
   "cell_type": "code",
   "execution_count": 54,
   "metadata": {},
   "outputs": [],
   "source": [
    "x = tf.placeholder(tf.float32, shape=[None, img_size_flat], name='x')"
   ]
  },
  {
   "cell_type": "code",
   "execution_count": 55,
   "metadata": {},
   "outputs": [],
   "source": [
    "x_image = tf.reshape(x, [-1, img_size, img_size, num_channels])"
   ]
  },
  {
   "cell_type": "code",
   "execution_count": 56,
   "metadata": {},
   "outputs": [],
   "source": [
    "y_true = tf.placeholder(tf.float32, shape=[None, num_classes], name='y_true')"
   ]
  },
  {
   "cell_type": "code",
   "execution_count": 57,
   "metadata": {},
   "outputs": [],
   "source": [
    "y_true_cls = tf.argmax(y_true, axis=1)"
   ]
  },
  {
   "cell_type": "code",
   "execution_count": 58,
   "metadata": {},
   "outputs": [],
   "source": [
    "layer_conv1, weights_conv1 = \\\n",
    "    new_conv_layer(input=x_image,\n",
    "                   num_input_channels=num_channels,\n",
    "                   filter_size=filter_size1,\n",
    "                   num_filters=num_filters1,\n",
    "                   use_pooling=True)"
   ]
  },
  {
   "cell_type": "code",
   "execution_count": 59,
   "metadata": {},
   "outputs": [
    {
     "data": {
      "text/plain": [
       "<tf.Tensor 'Relu_4:0' shape=(?, 100, 100, 32) dtype=float32>"
      ]
     },
     "execution_count": 59,
     "metadata": {},
     "output_type": "execute_result"
    }
   ],
   "source": [
    "layer_conv1"
   ]
  },
  {
   "cell_type": "code",
   "execution_count": 60,
   "metadata": {},
   "outputs": [],
   "source": [
    "layer_conv2, weights_conv2 = \\\n",
    "    new_conv_layer(input=layer_conv1,\n",
    "                   num_input_channels=num_filters1,\n",
    "                   filter_size=filter_size2,\n",
    "                   num_filters=num_filters2,\n",
    "                   use_pooling=True)"
   ]
  },
  {
   "cell_type": "code",
   "execution_count": 61,
   "metadata": {},
   "outputs": [
    {
     "data": {
      "text/plain": [
       "<tf.Tensor 'Relu_5:0' shape=(?, 50, 50, 32) dtype=float32>"
      ]
     },
     "execution_count": 61,
     "metadata": {},
     "output_type": "execute_result"
    }
   ],
   "source": [
    "layer_conv2"
   ]
  },
  {
   "cell_type": "code",
   "execution_count": 62,
   "metadata": {},
   "outputs": [],
   "source": [
    "layer_conv3, weights_conv3 = \\\n",
    "    new_conv_layer(input=layer_conv2,\n",
    "                   num_input_channels=num_filters2,\n",
    "                   filter_size=filter_size3,\n",
    "                   num_filters=num_filters3,\n",
    "                   use_pooling=True)"
   ]
  },
  {
   "cell_type": "code",
   "execution_count": 63,
   "metadata": {},
   "outputs": [
    {
     "data": {
      "text/plain": [
       "<tf.Tensor 'Relu_6:0' shape=(?, 25, 25, 64) dtype=float32>"
      ]
     },
     "execution_count": 63,
     "metadata": {},
     "output_type": "execute_result"
    }
   ],
   "source": [
    "layer_conv3"
   ]
  },
  {
   "cell_type": "code",
   "execution_count": 64,
   "metadata": {},
   "outputs": [],
   "source": [
    "layer_flat, num_features = flatten_layer(layer_conv3)"
   ]
  },
  {
   "cell_type": "code",
   "execution_count": 65,
   "metadata": {},
   "outputs": [
    {
     "data": {
      "text/plain": [
       "<tf.Tensor 'Reshape_3:0' shape=(?, 40000) dtype=float32>"
      ]
     },
     "execution_count": 65,
     "metadata": {},
     "output_type": "execute_result"
    }
   ],
   "source": [
    "layer_flat"
   ]
  },
  {
   "cell_type": "code",
   "execution_count": 66,
   "metadata": {},
   "outputs": [
    {
     "data": {
      "text/plain": [
       "40000"
      ]
     },
     "execution_count": 66,
     "metadata": {},
     "output_type": "execute_result"
    }
   ],
   "source": [
    "num_features"
   ]
  },
  {
   "cell_type": "code",
   "execution_count": 67,
   "metadata": {},
   "outputs": [],
   "source": [
    "layer_fc1 = new_fc_layer(input=layer_flat,\n",
    "                         num_inputs=num_features,\n",
    "                         num_outputs=fc_size,\n",
    "                         use_relu=True)"
   ]
  },
  {
   "cell_type": "code",
   "execution_count": 68,
   "metadata": {},
   "outputs": [
    {
     "data": {
      "text/plain": [
       "<tf.Tensor 'Relu_7:0' shape=(?, 200) dtype=float32>"
      ]
     },
     "execution_count": 68,
     "metadata": {},
     "output_type": "execute_result"
    }
   ],
   "source": [
    "layer_fc1"
   ]
  },
  {
   "cell_type": "code",
   "execution_count": 69,
   "metadata": {},
   "outputs": [],
   "source": [
    "layer_fc2 = new_fc_layer(input=layer_fc1,\n",
    "                         num_inputs=fc_size,\n",
    "                         num_outputs=num_classes,\n",
    "                         use_relu=False)"
   ]
  },
  {
   "cell_type": "code",
   "execution_count": 70,
   "metadata": {},
   "outputs": [
    {
     "data": {
      "text/plain": [
       "<tf.Tensor 'add_9:0' shape=(?, 3) dtype=float32>"
      ]
     },
     "execution_count": 70,
     "metadata": {},
     "output_type": "execute_result"
    }
   ],
   "source": [
    "layer_fc2"
   ]
  },
  {
   "cell_type": "code",
   "execution_count": 71,
   "metadata": {},
   "outputs": [
    {
     "name": "stdout",
     "output_type": "stream",
     "text": [
      "(?,)\n"
     ]
    }
   ],
   "source": [
    "y_pred = tf.nn.softmax(layer_fc2)\n",
    "y_pred_cls = tf.argmax(y_pred, axis=1)\n",
    "cross_entropy = tf.nn.softmax_cross_entropy_with_logits_v2(logits=layer_fc2, labels=y_true)\n",
    "print(cross_entropy.shape)\n",
    "cost = tf.reduce_mean(cross_entropy)\n",
    "optimizer = tf.train.AdamOptimizer(learning_rate=1e-5).minimize(cost)\n",
    "correct_prediction = tf.equal(y_pred_cls, y_true_cls)\n",
    "accuracy = tf.reduce_mean(tf.cast(correct_prediction, tf.float32))"
   ]
  },
  {
   "cell_type": "code",
   "execution_count": 72,
   "metadata": {},
   "outputs": [],
   "source": [
    "session = tf.Session()\n",
    "session.run(tf.global_variables_initializer())\n",
    "train_batch_size = batch_size"
   ]
  },
  {
   "cell_type": "code",
   "execution_count": 73,
   "metadata": {},
   "outputs": [],
   "source": [
    "def print_progress(epoch, feed_dict_train, feed_dict_validate, val_loss):\n",
    "    # Calculate the accuracy on the training-set.\n",
    "    acc = session.run(accuracy, feed_dict=feed_dict_train)\n",
    "    val_acc = session.run(accuracy, feed_dict=feed_dict_validate)\n",
    "    msg = \"Epoch {0} --- Training Accuracy: {1:>6.1%}, Validation Accuracy: {2:>6.1%}, Validation Loss: {3:.3f}\"\n",
    "    print(msg.format(epoch + 1, acc, val_acc, val_loss))"
   ]
  },
  {
   "cell_type": "code",
   "execution_count": 74,
   "metadata": {},
   "outputs": [],
   "source": [
    "# Counter for total number of iterations performed so far.\n",
    "total_iterations = 0\n",
    "\n",
    "def optimize(num_iterations):\n",
    "    # Ensure we update the global variable rather than a local copy.\n",
    "    global total_iterations\n",
    "\n",
    "    # Start-time used for printing time-usage below.\n",
    "    start_time = time.time()\n",
    "    \n",
    "    best_val_loss = float(\"inf\")\n",
    "    patience = 0\n",
    "\n",
    "    for i in range(total_iterations,\n",
    "                   total_iterations + num_iterations):\n",
    "\n",
    "        # Get a batch of training examples.\n",
    "        # x_batch now holds a batch of images and\n",
    "        # y_true_batch are the true labels for those images.\n",
    "        x_batch, y_true_batch, _, cls_batch = data.train.next_batch(train_batch_size)\n",
    "        x_valid_batch, y_valid_batch, _, valid_cls_batch = data.valid.next_batch(train_batch_size)\n",
    "\n",
    "        # Convert shape from [num examples, rows, columns, depth]\n",
    "        # to [num examples, flattened image shape]\n",
    "\n",
    "        x_batch = x_batch.reshape(train_batch_size, img_size_flat)\n",
    "        x_valid_batch = x_valid_batch.reshape(train_batch_size, img_size_flat)\n",
    "\n",
    "        # Put the batch into a dict with the proper names\n",
    "        # for placeholder variables in the TensorFlow graph.\n",
    "        feed_dict_train = {x: x_batch,\n",
    "                           y_true: y_true_batch}\n",
    "        \n",
    "        feed_dict_validate = {x: x_valid_batch,\n",
    "                              y_true: y_valid_batch}\n",
    "\n",
    "        # Run the optimizer using this batch of training data.\n",
    "        # TensorFlow assigns the variables in feed_dict_train\n",
    "        # to the placeholder variables and then runs the optimizer.\n",
    "        session.run(optimizer, feed_dict=feed_dict_train)\n",
    "        \n",
    "\n",
    "        # Print status at end of each epoch (defined as full pass through training dataset).\n",
    "        if i % int(data.train.num_examples/batch_size) == 0: \n",
    "            val_loss = session.run(cost, feed_dict=feed_dict_validate)\n",
    "            epoch = int(i / int(data.train.num_examples/batch_size))\n",
    "            \n",
    "            print_progress(epoch, feed_dict_train, feed_dict_validate, val_loss)\n",
    "            \n",
    "            if early_stopping:    \n",
    "                if val_loss < best_val_loss:\n",
    "                    best_val_loss = val_loss\n",
    "                    patience = 0\n",
    "                else:\n",
    "                    patience += 1\n",
    "\n",
    "                if patience == early_stopping:\n",
    "                    break\n",
    "\n",
    "    # Update the total number of iterations performed.\n",
    "    total_iterations += num_iterations\n",
    "\n",
    "    # Ending time.\n",
    "    end_time = time.time()\n",
    "\n",
    "    # Difference between start and end-times.\n",
    "    time_dif = end_time - start_time\n",
    "\n",
    "    # Print the time-usage.\n",
    "    print(\"Time elapsed: \" + str(timedelta(seconds=int(round(time_dif)))))"
   ]
  },
  {
   "cell_type": "code",
   "execution_count": 75,
   "metadata": {},
   "outputs": [],
   "source": [
    "def plot_example_errors(cls_pred, correct):\n",
    "    # cls_pred is an array of the predicted class-number for\n",
    "    # all images in the test-set.\n",
    "\n",
    "    # correct is a boolean array whether the predicted class\n",
    "    # is equal to the true class for each image in the test-set.\n",
    "\n",
    "    # Negate the boolean array.\n",
    "    incorrect = (correct == False)\n",
    "    \n",
    "    # Get the images from the test-set that have been\n",
    "    # incorrectly classified.\n",
    "    images = data.valid.images[incorrect]\n",
    "    \n",
    "    # Get the predicted classes for those images.\n",
    "    cls_pred = cls_pred[incorrect]\n",
    "\n",
    "    # Get the true classes for those images.\n",
    "    cls_true = data.valid.cls[incorrect]\n",
    "\n",
    "    # Plot the first 9 images.\n",
    "    plot_images(images=images, cls_true=cls_true, cls_pred=cls_pred)"
   ]
  },
  {
   "cell_type": "code",
   "execution_count": 76,
   "metadata": {},
   "outputs": [],
   "source": [
    "def plot_confusion_matrix(cls_pred, title = \"Confusion matrix\",\n",
    "                         cmap = plt.cm.YlOrBr):\n",
    "    # cls_pred is an array of the predicted class-number for\n",
    "    # all images in the test-set.\n",
    "\n",
    "    # Get the true classifications for the test-set.\n",
    "    cls_true = data.valid.cls\n",
    "    labels = ['Scol', 'Lcol', 'eq']\n",
    "    # Get the confusion matrix using sklearn.\n",
    "    cm = confusion_matrix(y_true=cls_true,\n",
    "                          y_pred=cls_pred,\n",
    "                          labels=labels)\n",
    "\n",
    "    # Print the confusion matrix as text.\n",
    "    print(cm)\n",
    "\n",
    "    # Plot the confusion matrix as an image.\n",
    "    plt.imshow(cm, interpolation = 'nearest', cmap = cmap)\n",
    "    plt.title(title, fontsize = 20)\n",
    "    # Make various adjustments to the plot.\n",
    "    plt.colorbar()\n",
    "    tick_marks = np.arange(num_classes)\n",
    "    plt.xticks(tick_marks, range(num_classes))\n",
    "    plt.yticks(tick_marks, range(num_classes))\n",
    "    plt.xlabel('Predicted')\n",
    "    plt.ylabel('True')\n",
    "\n",
    "    # Ensure the plot is shown correctly with multiple plots\n",
    "    # in a single Notebook cell.\n",
    "    plt.show()"
   ]
  },
  {
   "cell_type": "code",
   "execution_count": 77,
   "metadata": {},
   "outputs": [],
   "source": [
    "def print_validation_accuracy(show_example_errors=False, show_confusion_matrix=False):\n",
    "\n",
    "    # Number of images in the test-set.\n",
    "    num_test = len(data.valid.images)\n",
    "\n",
    "    # Allocate an array for the predicted classes which\n",
    "    # will be calculated in batches and filled into this array.\n",
    "    cls_pred = np.zeros(shape=num_test, dtype=np.int)\n",
    "\n",
    "    # Now calculate the predicted classes for the batches.\n",
    "    # We will just iterate through all the batches.\n",
    "    # There might be a more clever and Pythonic way of doing this.\n",
    "\n",
    "    # The starting index for the next batch is denoted i.\n",
    "    i = 0\n",
    "\n",
    "    while i < num_test:\n",
    "        # The ending index for the next batch is denoted j.\n",
    "        j = min(i + batch_size, num_test)\n",
    "\n",
    "        # Get the images from the test-set between index i and j.\n",
    "        images = data.valid.images[i:j, :].reshape(batch_size, img_size_flat)\n",
    "        \n",
    "\n",
    "        # Get the associated labels.\n",
    "        labels = data.valid.labels[i:j, :]\n",
    "\n",
    "        # Create a feed-dict with these images and labels.\n",
    "        feed_dict = {x: images,\n",
    "                     y_true: labels}\n",
    "\n",
    "        # Calculate the predicted class using TensorFlow.\n",
    "        cls_pred[i:j] = session.run(y_pred_cls, feed_dict=feed_dict)\n",
    "\n",
    "        # Set the start-index for the next batch to the\n",
    "        # end-index of the current batch.\n",
    "        i = j\n",
    "\n",
    "    cls_true = np.array(data.valid.cls)\n",
    "    cls_pred = np.array([classes[x] for x in cls_pred]) \n",
    "\n",
    "    # Create a boolean array whether each image is correctly classified.\n",
    "    correct = (cls_true == cls_pred)\n",
    "\n",
    "    # Calculate the number of correctly classified images.\n",
    "    # When summing a boolean array, False means 0 and True means 1.\n",
    "    correct_sum = correct.sum()\n",
    "\n",
    "    # Classification accuracy is the number of correctly classified\n",
    "    # images divided by the total number of images in the test-set.\n",
    "    acc = float(correct_sum) / num_test\n",
    "\n",
    "    # Print the accuracy.\n",
    "    msg = \"Accuracy on Test-Set: {0:.1%} ({1} / {2})\"\n",
    "    print(msg.format(acc, correct_sum, num_test))\n",
    "\n",
    "    # Plot some examples of mis-classifications, if desired.\n",
    "    if show_example_errors:\n",
    "        print(\"Example errors:\")\n",
    "        plot_example_errors(cls_pred=cls_pred, correct=correct)\n",
    "\n",
    "    # Plot the confusion matrix, if desired.\n",
    "    if show_confusion_matrix:\n",
    "        print(\"Confusion Matrix:\")\n",
    "        plot_confusion_matrix(cls_pred=cls_pred)"
   ]
  },
  {
   "cell_type": "code",
   "execution_count": 78,
   "metadata": {},
   "outputs": [],
   "source": [
    "def predictdata():\n",
    "    path_0 = label0\n",
    "    path_1 = label1\n",
    "    path_2 = label2\n",
    "    path0 = os.path.join(path_0, '*jpg')\n",
    "    path1 = os.path.join(path_1, '*jpg')\n",
    "    path2 = os.path.join(path_2, '*jpg')\n",
    "    true = []\n",
    "    pred = []\n",
    "    filename = []\n",
    "    i = -1\n",
    "    for p1 in (path0,path1,path2):\n",
    "        i = i+1\n",
    "        files = glob.glob(p1)\n",
    "        for f1 in files:\n",
    "            img = cv2.imread(f1)\n",
    "            f1base = os.path.basename(f1)\n",
    "            f1base_1 = f1base.split('.')[0]\n",
    "            img = cv2.resize(img, (img_size, img_size), cv2.INTER_LINEAR) / 255\n",
    "            true.append(i)\n",
    "            pred.append(sample_prediction(img))\n",
    "            filename.append(f1base_1)\n",
    "    true = np.array(true)\n",
    "    pred = np.array(pred)\n",
    "    filename = np.array(filename)\n",
    "    res = {'filename':filename, 'true':true, 'pred':pred}\n",
    "    res = pd.DataFrame(res)\n",
    "    res['pred'].replace('Scol', 0, inplace=True)\n",
    "    res['pred'].replace('Lcol', 1, inplace=True)\n",
    "    res['pred'].replace('eq', 2, inplace=True)\n",
    "    classes = ['Scol','Lcol','eq']\n",
    "    num_classes = len(classes)\n",
    "    fig = plt.figure(dpi=250)\n",
    "    cm = confusion_matrix(y_true = res['true'],\n",
    "                      y_pred = res['pred'],\n",
    "                      )\n",
    "    print(cm)\n",
    "    plt.imshow(cm, interpolation = 'nearest', cmap = plt.cm.YlOrBr)\n",
    "    plt.title('CNN 3-class', fontsize = 20)\n",
    "    plt.colorbar()\n",
    "    tick_marks = np.arange(num_classes)\n",
    "    plt.xticks(tick_marks)\n",
    "    plt.yticks(tick_marks)\n",
    "    plt.xlabel('Predicted')\n",
    "    plt.ylabel('True')\n",
    "    plt.show\n",
    "    \n",
    "    #print predict result\n",
    "    res.to_csv(\"E:/Python/predict result/CNN_3t.csv\")"
   ]
  },
  {
   "cell_type": "code",
   "execution_count": 79,
   "metadata": {},
   "outputs": [],
   "source": [
    "def sample_prediction(test_im):\n",
    "    \n",
    "    feed_dict_test = {\n",
    "        x: test_im.reshape(1, img_size_flat),\n",
    "        y_true: np.array([[2 ,1, 0]])\n",
    "    }\n",
    "\n",
    "    test_pred = session.run(y_pred_cls, feed_dict=feed_dict_test)\n",
    "    return classes[test_pred[0]]\n"
   ]
  },
  {
   "cell_type": "code",
   "execution_count": 80,
   "metadata": {},
   "outputs": [],
   "source": [
    "def plot_conv_weights(weights, input_channel=0):\n",
    "    # Assume weights are TensorFlow ops for 4-dim variables\n",
    "    # e.g. weights_conv1 or weights_conv2.\n",
    "    \n",
    "    # Retrieve the values of the weight-variables from TensorFlow.\n",
    "    # A feed-dict is not necessary because nothing is calculated.\n",
    "    w = session.run(weights)\n",
    "\n",
    "    # Get the lowest and highest values for the weights.\n",
    "    # This is used to correct the colour intensity across\n",
    "    # the images so they can be compared with each other.\n",
    "    w_min = np.min(w)\n",
    "    w_max = np.max(w)\n",
    "\n",
    "    # Number of filters used in the conv. layer.\n",
    "    num_filters = w.shape[3]\n",
    "\n",
    "    # Number of grids to plot.\n",
    "    # Rounded-up, square-root of the number of filters.\n",
    "    num_grids = math.ceil(math.sqrt(num_filters))\n",
    "    \n",
    "    # Create figure with a grid of sub-plots.\n",
    "    fig, axes = plt.subplots(num_grids, num_grids)\n",
    "\n",
    "    # Plot all the filter-weights.\n",
    "    for i, ax in enumerate(axes.flat):\n",
    "        # Only plot the valid filter-weights.\n",
    "        if i<num_filters:\n",
    "            # Get the weights for the i'th filter of the input channel.\n",
    "            # See new_conv_layer() for details on the format\n",
    "            # of this 4-dim tensor.\n",
    "            img = w[:, :, input_channel, i]\n",
    "\n",
    "            # Plot image.\n",
    "            ax.imshow(img, vmin=w_min, vmax=w_max,\n",
    "                      interpolation='nearest', cmap='seismic')\n",
    "        \n",
    "        # Remove ticks from the plot.\n",
    "        ax.set_xticks([])\n",
    "        ax.set_yticks([])\n",
    "    \n",
    "    # Ensure the plot is shown correctly with multiple plots\n",
    "    # in a single Notebook cell.\n",
    "    plt.show()"
   ]
  },
  {
   "cell_type": "code",
   "execution_count": 81,
   "metadata": {},
   "outputs": [],
   "source": [
    "def plot_conv_layer(layer, image):\n",
    "    # Assume layer is a TensorFlow op that outputs a 4-dim tensor\n",
    "    # which is the output of a convolutional layer,\n",
    "    # e.g. layer_conv1 or layer_conv2.\n",
    "    \n",
    "    image = image.reshape(img_size_flat)\n",
    "\n",
    "    # Create a feed-dict containing just one image.\n",
    "    # Note that we don't need to feed y_true because it is\n",
    "    # not used in this calculation.\n",
    "    feed_dict = {x: [image]}\n",
    "\n",
    "    # Calculate and retrieve the output values of the layer\n",
    "    # when inputting that image.\n",
    "    values = session.run(layer, feed_dict=feed_dict)\n",
    "\n",
    "    # Number of filters used in the conv. layer.\n",
    "    num_filters = values.shape[3]\n",
    "\n",
    "    # Number of grids to plot.\n",
    "    # Rounded-up, square-root of the number of filters.\n",
    "    num_grids = math.ceil(math.sqrt(num_filters))\n",
    "    \n",
    "    # Create figure with a grid of sub-plots.\n",
    "    fig, axes = plt.subplots(num_grids, num_grids)\n",
    "\n",
    "    # Plot the output images of all the filters.\n",
    "    for i, ax in enumerate(axes.flat):\n",
    "        # Only plot the images for valid filters.\n",
    "        if i<num_filters:\n",
    "            # Get the output image of using the i'th filter.\n",
    "            # See new_conv_layer() for details on the format\n",
    "            # of this 4-dim tensor.\n",
    "            img = values[0, :, :, i]\n",
    "\n",
    "            # Plot image.\n",
    "            ax.imshow(img, interpolation='nearest', cmap='binary')\n",
    "        \n",
    "        # Remove ticks from the plot.\n",
    "        ax.set_xticks([])\n",
    "        ax.set_yticks([])\n",
    "    \n",
    "    # Ensure the plot is shown correctly with multiple plots\n",
    "    # in a single Notebook cell.\n",
    "    plt.show()"
   ]
  },
  {
   "cell_type": "code",
   "execution_count": 82,
   "metadata": {},
   "outputs": [],
   "source": [
    "def plot_image(image):\n",
    "    plt.imshow(image.reshape(img_size, img_size, num_channels),\n",
    "               interpolation='nearest')\n",
    "    plt.show()"
   ]
  },
  {
   "cell_type": "code",
   "execution_count": 83,
   "metadata": {},
   "outputs": [],
   "source": [
    "label0 = 'E:/Python/Git_rep/Seismic signal CNN/database/pic/data_df3/test/Scol'\n",
    "label1 = 'E:/Python/Git_rep/Seismic signal CNN/database/pic/data_df3/test/Lcol'\n",
    "label2 = 'E:/Python/Git_rep/Seismic signal CNN/database/pic/data_df3/test/eq'"
   ]
  },
  {
   "cell_type": "code",
   "execution_count": 84,
   "metadata": {},
   "outputs": [
    {
     "name": "stdout",
     "output_type": "stream",
     "text": [
      "Epoch 1 --- Training Accuracy:  20.0%, Validation Accuracy:  33.3%, Validation Loss: 1.135\n",
      "Epoch 2 --- Training Accuracy:  30.0%, Validation Accuracy:  43.3%, Validation Loss: 1.091\n",
      "Epoch 3 --- Training Accuracy:  43.3%, Validation Accuracy:  36.7%, Validation Loss: 1.090\n",
      "Epoch 4 --- Training Accuracy:  40.0%, Validation Accuracy:  40.0%, Validation Loss: 1.090\n",
      "Epoch 5 --- Training Accuracy:  23.3%, Validation Accuracy:  50.0%, Validation Loss: 1.090\n",
      "Epoch 6 --- Training Accuracy:  23.3%, Validation Accuracy:  50.0%, Validation Loss: 1.088\n",
      "Epoch 7 --- Training Accuracy:  30.0%, Validation Accuracy:  46.7%, Validation Loss: 1.086\n",
      "Epoch 8 --- Training Accuracy:  33.3%, Validation Accuracy:  43.3%, Validation Loss: 1.085\n",
      "Epoch 9 --- Training Accuracy:  46.7%, Validation Accuracy:  50.0%, Validation Loss: 1.084\n",
      "Epoch 10 --- Training Accuracy:  33.3%, Validation Accuracy:  50.0%, Validation Loss: 1.083\n",
      "Epoch 11 --- Training Accuracy:  46.7%, Validation Accuracy:  50.0%, Validation Loss: 1.082\n",
      "Epoch 12 --- Training Accuracy:  46.7%, Validation Accuracy:  43.3%, Validation Loss: 1.081\n",
      "Epoch 13 --- Training Accuracy:  46.7%, Validation Accuracy:  46.7%, Validation Loss: 1.079\n",
      "Epoch 14 --- Training Accuracy:  46.7%, Validation Accuracy:  40.0%, Validation Loss: 1.078\n",
      "Epoch 15 --- Training Accuracy:  46.7%, Validation Accuracy:  40.0%, Validation Loss: 1.077\n",
      "Epoch 16 --- Training Accuracy:  46.7%, Validation Accuracy:  40.0%, Validation Loss: 1.076\n",
      "Epoch 17 --- Training Accuracy:  46.7%, Validation Accuracy:  40.0%, Validation Loss: 1.074\n",
      "Epoch 18 --- Training Accuracy:  50.0%, Validation Accuracy:  40.0%, Validation Loss: 1.073\n",
      "Epoch 19 --- Training Accuracy:  50.0%, Validation Accuracy:  36.7%, Validation Loss: 1.071\n",
      "Epoch 20 --- Training Accuracy:  46.7%, Validation Accuracy:  36.7%, Validation Loss: 1.070\n",
      "Epoch 21 --- Training Accuracy:  46.7%, Validation Accuracy:  36.7%, Validation Loss: 1.069\n",
      "Epoch 22 --- Training Accuracy:  46.7%, Validation Accuracy:  36.7%, Validation Loss: 1.067\n",
      "Epoch 23 --- Training Accuracy:  46.7%, Validation Accuracy:  36.7%, Validation Loss: 1.066\n",
      "Epoch 24 --- Training Accuracy:  46.7%, Validation Accuracy:  36.7%, Validation Loss: 1.064\n",
      "Epoch 25 --- Training Accuracy:  46.7%, Validation Accuracy:  36.7%, Validation Loss: 1.063\n",
      "Epoch 26 --- Training Accuracy:  46.7%, Validation Accuracy:  40.0%, Validation Loss: 1.061\n",
      "Epoch 27 --- Training Accuracy:  46.7%, Validation Accuracy:  40.0%, Validation Loss: 1.060\n",
      "Epoch 28 --- Training Accuracy:  46.7%, Validation Accuracy:  40.0%, Validation Loss: 1.059\n",
      "Epoch 29 --- Training Accuracy:  46.7%, Validation Accuracy:  40.0%, Validation Loss: 1.058\n",
      "Epoch 30 --- Training Accuracy:  46.7%, Validation Accuracy:  40.0%, Validation Loss: 1.056\n",
      "Epoch 31 --- Training Accuracy:  46.7%, Validation Accuracy:  40.0%, Validation Loss: 1.055\n",
      "Epoch 32 --- Training Accuracy:  46.7%, Validation Accuracy:  40.0%, Validation Loss: 1.054\n",
      "Epoch 33 --- Training Accuracy:  46.7%, Validation Accuracy:  40.0%, Validation Loss: 1.053\n",
      "Epoch 34 --- Training Accuracy:  46.7%, Validation Accuracy:  36.7%, Validation Loss: 1.052\n",
      "Epoch 35 --- Training Accuracy:  46.7%, Validation Accuracy:  40.0%, Validation Loss: 1.052\n",
      "Epoch 36 --- Training Accuracy:  50.0%, Validation Accuracy:  40.0%, Validation Loss: 1.051\n",
      "Epoch 37 --- Training Accuracy:  50.0%, Validation Accuracy:  33.3%, Validation Loss: 1.050\n",
      "Epoch 38 --- Training Accuracy:  50.0%, Validation Accuracy:  33.3%, Validation Loss: 1.050\n",
      "Epoch 39 --- Training Accuracy:  50.0%, Validation Accuracy:  36.7%, Validation Loss: 1.049\n",
      "Epoch 40 --- Training Accuracy:  50.0%, Validation Accuracy:  33.3%, Validation Loss: 1.049\n",
      "Epoch 41 --- Training Accuracy:  50.0%, Validation Accuracy:  33.3%, Validation Loss: 1.049\n",
      "Epoch 42 --- Training Accuracy:  50.0%, Validation Accuracy:  33.3%, Validation Loss: 1.048\n",
      "Epoch 43 --- Training Accuracy:  50.0%, Validation Accuracy:  33.3%, Validation Loss: 1.048\n",
      "Epoch 44 --- Training Accuracy:  50.0%, Validation Accuracy:  33.3%, Validation Loss: 1.048\n",
      "Epoch 45 --- Training Accuracy:  50.0%, Validation Accuracy:  33.3%, Validation Loss: 1.048\n",
      "Epoch 46 --- Training Accuracy:  50.0%, Validation Accuracy:  33.3%, Validation Loss: 1.048\n",
      "Epoch 47 --- Training Accuracy:  50.0%, Validation Accuracy:  33.3%, Validation Loss: 1.049\n",
      "Epoch 48 --- Training Accuracy:  50.0%, Validation Accuracy:  33.3%, Validation Loss: 1.049\n",
      "Epoch 49 --- Training Accuracy:  50.0%, Validation Accuracy:  33.3%, Validation Loss: 1.050\n",
      "Epoch 50 --- Training Accuracy:  50.0%, Validation Accuracy:  33.3%, Validation Loss: 1.051\n",
      "Epoch 51 --- Training Accuracy:  50.0%, Validation Accuracy:  33.3%, Validation Loss: 1.053\n",
      "Epoch 52 --- Training Accuracy:  50.0%, Validation Accuracy:  33.3%, Validation Loss: 1.055\n",
      "Epoch 53 --- Training Accuracy:  50.0%, Validation Accuracy:  33.3%, Validation Loss: 1.055\n",
      "Epoch 54 --- Training Accuracy:  50.0%, Validation Accuracy:  33.3%, Validation Loss: 1.056\n",
      "Epoch 55 --- Training Accuracy:  50.0%, Validation Accuracy:  33.3%, Validation Loss: 1.057\n",
      "Epoch 56 --- Training Accuracy:  50.0%, Validation Accuracy:  33.3%, Validation Loss: 1.058\n",
      "Epoch 57 --- Training Accuracy:  50.0%, Validation Accuracy:  33.3%, Validation Loss: 1.059\n",
      "Epoch 58 --- Training Accuracy:  50.0%, Validation Accuracy:  33.3%, Validation Loss: 1.061\n",
      "Epoch 59 --- Training Accuracy:  50.0%, Validation Accuracy:  33.3%, Validation Loss: 1.062\n",
      "Epoch 60 --- Training Accuracy:  50.0%, Validation Accuracy:  33.3%, Validation Loss: 1.063\n",
      "Epoch 61 --- Training Accuracy:  50.0%, Validation Accuracy:  33.3%, Validation Loss: 1.064\n",
      "Epoch 62 --- Training Accuracy:  50.0%, Validation Accuracy:  33.3%, Validation Loss: 1.065\n",
      "Epoch 63 --- Training Accuracy:  50.0%, Validation Accuracy:  33.3%, Validation Loss: 1.067\n",
      "Epoch 64 --- Training Accuracy:  50.0%, Validation Accuracy:  33.3%, Validation Loss: 1.067\n",
      "Epoch 65 --- Training Accuracy:  50.0%, Validation Accuracy:  33.3%, Validation Loss: 1.069\n",
      "Epoch 66 --- Training Accuracy:  50.0%, Validation Accuracy:  33.3%, Validation Loss: 1.070\n",
      "Epoch 67 --- Training Accuracy:  50.0%, Validation Accuracy:  33.3%, Validation Loss: 1.071\n",
      "Epoch 68 --- Training Accuracy:  50.0%, Validation Accuracy:  33.3%, Validation Loss: 1.072\n",
      "Epoch 69 --- Training Accuracy:  50.0%, Validation Accuracy:  33.3%, Validation Loss: 1.072\n",
      "Epoch 70 --- Training Accuracy:  50.0%, Validation Accuracy:  33.3%, Validation Loss: 1.074\n",
      "Epoch 71 --- Training Accuracy:  50.0%, Validation Accuracy:  33.3%, Validation Loss: 1.075\n",
      "Epoch 72 --- Training Accuracy:  50.0%, Validation Accuracy:  33.3%, Validation Loss: 1.076\n",
      "Epoch 73 --- Training Accuracy:  50.0%, Validation Accuracy:  33.3%, Validation Loss: 1.078\n",
      "Epoch 74 --- Training Accuracy:  50.0%, Validation Accuracy:  33.3%, Validation Loss: 1.079\n",
      "Epoch 75 --- Training Accuracy:  50.0%, Validation Accuracy:  33.3%, Validation Loss: 1.079\n",
      "Epoch 76 --- Training Accuracy:  50.0%, Validation Accuracy:  33.3%, Validation Loss: 1.081\n",
      "Epoch 77 --- Training Accuracy:  50.0%, Validation Accuracy:  33.3%, Validation Loss: 1.082\n",
      "Epoch 78 --- Training Accuracy:  50.0%, Validation Accuracy:  33.3%, Validation Loss: 1.083\n",
      "Epoch 79 --- Training Accuracy:  53.3%, Validation Accuracy:  33.3%, Validation Loss: 1.084\n",
      "Epoch 80 --- Training Accuracy:  53.3%, Validation Accuracy:  33.3%, Validation Loss: 1.084\n",
      "Epoch 81 --- Training Accuracy:  53.3%, Validation Accuracy:  33.3%, Validation Loss: 1.085\n",
      "Epoch 82 --- Training Accuracy:  53.3%, Validation Accuracy:  33.3%, Validation Loss: 1.086\n",
      "Epoch 83 --- Training Accuracy:  53.3%, Validation Accuracy:  33.3%, Validation Loss: 1.087\n",
      "Epoch 84 --- Training Accuracy:  53.3%, Validation Accuracy:  33.3%, Validation Loss: 1.088\n",
      "Epoch 85 --- Training Accuracy:  53.3%, Validation Accuracy:  33.3%, Validation Loss: 1.089\n",
      "Epoch 86 --- Training Accuracy:  53.3%, Validation Accuracy:  33.3%, Validation Loss: 1.090\n",
      "Epoch 87 --- Training Accuracy:  53.3%, Validation Accuracy:  33.3%, Validation Loss: 1.090\n",
      "Epoch 88 --- Training Accuracy:  53.3%, Validation Accuracy:  33.3%, Validation Loss: 1.091\n",
      "Epoch 89 --- Training Accuracy:  53.3%, Validation Accuracy:  33.3%, Validation Loss: 1.092\n",
      "Epoch 90 --- Training Accuracy:  50.0%, Validation Accuracy:  36.7%, Validation Loss: 1.093\n",
      "Epoch 91 --- Training Accuracy:  50.0%, Validation Accuracy:  36.7%, Validation Loss: 1.093\n",
      "Epoch 92 --- Training Accuracy:  50.0%, Validation Accuracy:  36.7%, Validation Loss: 1.094\n",
      "Epoch 93 --- Training Accuracy:  50.0%, Validation Accuracy:  36.7%, Validation Loss: 1.094\n",
      "Epoch 94 --- Training Accuracy:  50.0%, Validation Accuracy:  36.7%, Validation Loss: 1.095\n",
      "Epoch 95 --- Training Accuracy:  50.0%, Validation Accuracy:  36.7%, Validation Loss: 1.095\n",
      "Epoch 96 --- Training Accuracy:  50.0%, Validation Accuracy:  36.7%, Validation Loss: 1.096\n",
      "Epoch 97 --- Training Accuracy:  50.0%, Validation Accuracy:  36.7%, Validation Loss: 1.097\n",
      "Epoch 98 --- Training Accuracy:  50.0%, Validation Accuracy:  36.7%, Validation Loss: 1.098\n",
      "Epoch 99 --- Training Accuracy:  50.0%, Validation Accuracy:  36.7%, Validation Loss: 1.098\n",
      "Epoch 100 --- Training Accuracy:  50.0%, Validation Accuracy:  40.0%, Validation Loss: 1.099\n",
      "Epoch 101 --- Training Accuracy:  50.0%, Validation Accuracy:  40.0%, Validation Loss: 1.100\n",
      "Epoch 102 --- Training Accuracy:  50.0%, Validation Accuracy:  40.0%, Validation Loss: 1.101\n",
      "Epoch 103 --- Training Accuracy:  50.0%, Validation Accuracy:  40.0%, Validation Loss: 1.102\n",
      "Epoch 104 --- Training Accuracy:  50.0%, Validation Accuracy:  40.0%, Validation Loss: 1.102\n",
      "Epoch 105 --- Training Accuracy:  50.0%, Validation Accuracy:  40.0%, Validation Loss: 1.103\n",
      "Epoch 106 --- Training Accuracy:  50.0%, Validation Accuracy:  40.0%, Validation Loss: 1.104\n",
      "Epoch 107 --- Training Accuracy:  50.0%, Validation Accuracy:  40.0%, Validation Loss: 1.104\n",
      "Epoch 108 --- Training Accuracy:  50.0%, Validation Accuracy:  40.0%, Validation Loss: 1.105\n",
      "Epoch 109 --- Training Accuracy:  50.0%, Validation Accuracy:  40.0%, Validation Loss: 1.106\n",
      "Epoch 110 --- Training Accuracy:  50.0%, Validation Accuracy:  40.0%, Validation Loss: 1.106\n",
      "Epoch 111 --- Training Accuracy:  50.0%, Validation Accuracy:  43.3%, Validation Loss: 1.107\n",
      "Epoch 112 --- Training Accuracy:  50.0%, Validation Accuracy:  43.3%, Validation Loss: 1.108\n",
      "Epoch 113 --- Training Accuracy:  50.0%, Validation Accuracy:  40.0%, Validation Loss: 1.108\n",
      "Epoch 114 --- Training Accuracy:  50.0%, Validation Accuracy:  40.0%, Validation Loss: 1.109\n",
      "Epoch 115 --- Training Accuracy:  50.0%, Validation Accuracy:  40.0%, Validation Loss: 1.110\n",
      "Epoch 116 --- Training Accuracy:  53.3%, Validation Accuracy:  40.0%, Validation Loss: 1.111\n",
      "Epoch 117 --- Training Accuracy:  53.3%, Validation Accuracy:  40.0%, Validation Loss: 1.111\n",
      "Epoch 118 --- Training Accuracy:  50.0%, Validation Accuracy:  40.0%, Validation Loss: 1.112\n",
      "Epoch 119 --- Training Accuracy:  50.0%, Validation Accuracy:  40.0%, Validation Loss: 1.113\n",
      "Epoch 120 --- Training Accuracy:  50.0%, Validation Accuracy:  40.0%, Validation Loss: 1.113\n",
      "Epoch 121 --- Training Accuracy:  50.0%, Validation Accuracy:  40.0%, Validation Loss: 1.114\n",
      "Epoch 122 --- Training Accuracy:  50.0%, Validation Accuracy:  40.0%, Validation Loss: 1.114\n",
      "Epoch 123 --- Training Accuracy:  50.0%, Validation Accuracy:  40.0%, Validation Loss: 1.115\n",
      "Epoch 124 --- Training Accuracy:  50.0%, Validation Accuracy:  40.0%, Validation Loss: 1.116\n",
      "Epoch 125 --- Training Accuracy:  53.3%, Validation Accuracy:  40.0%, Validation Loss: 1.117\n",
      "Epoch 126 --- Training Accuracy:  53.3%, Validation Accuracy:  40.0%, Validation Loss: 1.117\n",
      "Epoch 127 --- Training Accuracy:  53.3%, Validation Accuracy:  40.0%, Validation Loss: 1.118\n",
      "Epoch 128 --- Training Accuracy:  53.3%, Validation Accuracy:  40.0%, Validation Loss: 1.119\n",
      "Epoch 129 --- Training Accuracy:  53.3%, Validation Accuracy:  40.0%, Validation Loss: 1.119\n",
      "Epoch 130 --- Training Accuracy:  50.0%, Validation Accuracy:  40.0%, Validation Loss: 1.120\n",
      "Epoch 131 --- Training Accuracy:  50.0%, Validation Accuracy:  40.0%, Validation Loss: 1.120\n",
      "Epoch 132 --- Training Accuracy:  50.0%, Validation Accuracy:  40.0%, Validation Loss: 1.120\n",
      "Epoch 133 --- Training Accuracy:  50.0%, Validation Accuracy:  40.0%, Validation Loss: 1.121\n",
      "Epoch 134 --- Training Accuracy:  53.3%, Validation Accuracy:  40.0%, Validation Loss: 1.122\n",
      "Epoch 135 --- Training Accuracy:  56.7%, Validation Accuracy:  40.0%, Validation Loss: 1.122\n",
      "Epoch 136 --- Training Accuracy:  56.7%, Validation Accuracy:  40.0%, Validation Loss: 1.123\n",
      "Epoch 137 --- Training Accuracy:  56.7%, Validation Accuracy:  40.0%, Validation Loss: 1.123\n",
      "Epoch 138 --- Training Accuracy:  56.7%, Validation Accuracy:  40.0%, Validation Loss: 1.124\n",
      "Epoch 139 --- Training Accuracy:  56.7%, Validation Accuracy:  40.0%, Validation Loss: 1.124\n",
      "Epoch 140 --- Training Accuracy:  56.7%, Validation Accuracy:  40.0%, Validation Loss: 1.125\n",
      "Epoch 141 --- Training Accuracy:  56.7%, Validation Accuracy:  40.0%, Validation Loss: 1.126\n",
      "Epoch 142 --- Training Accuracy:  56.7%, Validation Accuracy:  40.0%, Validation Loss: 1.126\n",
      "Epoch 143 --- Training Accuracy:  56.7%, Validation Accuracy:  40.0%, Validation Loss: 1.126\n",
      "Epoch 144 --- Training Accuracy:  56.7%, Validation Accuracy:  40.0%, Validation Loss: 1.127\n",
      "Epoch 145 --- Training Accuracy:  56.7%, Validation Accuracy:  40.0%, Validation Loss: 1.128\n",
      "Epoch 146 --- Training Accuracy:  56.7%, Validation Accuracy:  40.0%, Validation Loss: 1.128\n",
      "Epoch 147 --- Training Accuracy:  56.7%, Validation Accuracy:  40.0%, Validation Loss: 1.129\n",
      "Epoch 148 --- Training Accuracy:  56.7%, Validation Accuracy:  40.0%, Validation Loss: 1.129\n",
      "Epoch 149 --- Training Accuracy:  56.7%, Validation Accuracy:  40.0%, Validation Loss: 1.130\n",
      "Epoch 150 --- Training Accuracy:  56.7%, Validation Accuracy:  40.0%, Validation Loss: 1.130\n",
      "Epoch 151 --- Training Accuracy:  60.0%, Validation Accuracy:  40.0%, Validation Loss: 1.131\n",
      "Epoch 152 --- Training Accuracy:  60.0%, Validation Accuracy:  40.0%, Validation Loss: 1.131\n",
      "Epoch 153 --- Training Accuracy:  60.0%, Validation Accuracy:  40.0%, Validation Loss: 1.132\n",
      "Epoch 154 --- Training Accuracy:  60.0%, Validation Accuracy:  40.0%, Validation Loss: 1.133\n",
      "Epoch 155 --- Training Accuracy:  60.0%, Validation Accuracy:  40.0%, Validation Loss: 1.133\n",
      "Epoch 156 --- Training Accuracy:  60.0%, Validation Accuracy:  40.0%, Validation Loss: 1.133\n",
      "Epoch 157 --- Training Accuracy:  60.0%, Validation Accuracy:  40.0%, Validation Loss: 1.134\n",
      "Epoch 158 --- Training Accuracy:  60.0%, Validation Accuracy:  40.0%, Validation Loss: 1.135\n",
      "Epoch 159 --- Training Accuracy:  60.0%, Validation Accuracy:  40.0%, Validation Loss: 1.135\n",
      "Epoch 160 --- Training Accuracy:  60.0%, Validation Accuracy:  40.0%, Validation Loss: 1.135\n",
      "Epoch 161 --- Training Accuracy:  63.3%, Validation Accuracy:  40.0%, Validation Loss: 1.136\n",
      "Epoch 162 --- Training Accuracy:  63.3%, Validation Accuracy:  40.0%, Validation Loss: 1.137\n",
      "Epoch 163 --- Training Accuracy:  66.7%, Validation Accuracy:  40.0%, Validation Loss: 1.137\n",
      "Epoch 164 --- Training Accuracy:  63.3%, Validation Accuracy:  40.0%, Validation Loss: 1.138\n",
      "Epoch 165 --- Training Accuracy:  66.7%, Validation Accuracy:  40.0%, Validation Loss: 1.139\n",
      "Epoch 166 --- Training Accuracy:  66.7%, Validation Accuracy:  40.0%, Validation Loss: 1.139\n",
      "Epoch 167 --- Training Accuracy:  66.7%, Validation Accuracy:  40.0%, Validation Loss: 1.140\n",
      "Time elapsed: 0:20:14\n"
     ]
    }
   ],
   "source": [
    "optimize(num_iterations=1500)  # We already performed 1 iteration above."
   ]
  },
  {
   "cell_type": "code",
   "execution_count": 86,
   "metadata": {},
   "outputs": [
    {
     "name": "stdout",
     "output_type": "stream",
     "text": [
      "Accuracy on Test-Set: 40.0% (12 / 30)\n",
      "Example errors:\n"
     ]
    },
    {
     "data": {
      "text/plain": [
       "<Figure size 1500x1000 with 0 Axes>"
      ]
     },
     "metadata": {},
     "output_type": "display_data"
    },
    {
     "data": {
      "text/plain": [
       "<Figure size 3000x2000 with 0 Axes>"
      ]
     },
     "metadata": {},
     "output_type": "display_data"
    },
    {
     "data": {
      "image/png": "[encoded data removed]",
      "text/plain": [
       "<Figure size 432x288 with 9 Axes>"
      ]
     },
     "metadata": {},
     "output_type": "display_data"
    },
    {
     "name": "stdout",
     "output_type": "stream",
     "text": [
      "Confusion Matrix:\n",
      "[[2 3 6]\n",
      " [2 6 1]\n",
      " [5 1 4]]\n"
     ]
    },
    {
     "data": {
      "image/png": "[encoded data removed]",
      "text/plain": [
       "<Figure size 432x288 with 2 Axes>"
      ]
     },
     "metadata": {
      "needs_background": "light"
     },
     "output_type": "display_data"
    },
    {
     "name": "stdout",
     "output_type": "stream",
     "text": [
      "[[56 21 20]\n",
      " [26 40  8]\n",
      " [19  8 53]]\n"
     ]
    },
    {
     "data": {
      "image/png": "[encoded data removed]",
      "text/plain": [
       "<Figure size 1500x1000 with 2 Axes>"
      ]
     },
     "metadata": {
      "needs_background": "light"
     },
     "output_type": "display_data"
    }
   ],
   "source": [
    "plt.figure(dpi=250)\n",
    "print_validation_accuracy(show_example_errors=True, show_confusion_matrix=True)\n",
    "predictdata()"
   ]
  },
  {
   "cell_type": "code",
   "execution_count": 87,
   "metadata": {},
   "outputs": [],
   "source": [
    "path = 'E:/Python/CP-CNNv3.0/Backupdatav3/newdata'\n",
    "patht = os.path.join(path, '*.jpg')\n",
    "files = glob.glob(patht)\n",
    "pred = []\n",
    "filename = []\n",
    "i = -1\n",
    "for f1 in files:\n",
    "    img = cv2.imread(f1)\n",
    "    f1base = os.path.basename(f1)\n",
    "    f1base_1 = f1base.split('.')[0]\n",
    "    img = cv2.resize(img, (img_size, img_size), cv2.INTER_LINEAR) / 255\n",
    "    pred.append(sample_prediction(img))\n",
    "    filename.append(f1base_1)\n",
    "pred = np.array(pred)\n",
    "filename = np.array(filename)\n",
    "res = {'filename':filename, 'pred':pred}\n",
    "res = pd.DataFrame(res)\n",
    "res.to_csv(\"E:/Python/newdata_pre/CNN_3t_new.csv\")"
   ]
  },
  {
   "cell_type": "code",
   "execution_count": null,
   "metadata": {},
   "outputs": [],
   "source": []
  },
  {
   "cell_type": "code",
   "execution_count": null,
   "metadata": {},
   "outputs": [],
   "source": [
    "session.close()"
   ]
  },
  {
   "cell_type": "code",
   "execution_count": null,
   "metadata": {},
   "outputs": [],
   "source": []
  },
  {
   "cell_type": "code",
   "execution_count": null,
   "metadata": {},
   "outputs": [],
   "source": []
  }
 ],
 "metadata": {
  "kernelspec": {
   "display_name": "catdog",
   "language": "python",
   "name": "catdog"
  },
  "language_info": {
   "codemirror_mode": {
    "name": "ipython",
    "version": 3
   },
   "file_extension": ".py",
   "mimetype": "text/x-python",
   "name": "python",
   "nbconvert_exporter": "python",
   "pygments_lexer": "ipython3",
   "version": "3.6.12"
  }
 },
 "nbformat": 4,
 "nbformat_minor": 4
}
